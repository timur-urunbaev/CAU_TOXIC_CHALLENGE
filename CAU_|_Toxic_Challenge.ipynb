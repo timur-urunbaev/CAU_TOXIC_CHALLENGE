{
  "nbformat": 4,
  "nbformat_minor": 0,
  "metadata": {
    "colab": {
      "provenance": [],
      "toc_visible": true,
      "authorship_tag": "ABX9TyNZI9aafoI9DwHCtWs1kxKl",
      "include_colab_link": true
    },
    "kernelspec": {
      "name": "python3",
      "display_name": "Python 3"
    },
    "language_info": {
      "name": "python"
    }
  },
  "cells": [
    {
      "cell_type": "markdown",
      "metadata": {
        "id": "view-in-github",
        "colab_type": "text"
      },
      "source": [
        "<a href=\"https://colab.research.google.com/github/timur-urunbaev/CAU_TOXIC_CHALLENGE/blob/main/CAU_%7C_Toxic_Challenge.ipynb\" target=\"_parent\"><img src=\"https://colab.research.google.com/assets/colab-badge.svg\" alt=\"Open In Colab\"/></a>"
      ]
    },
    {
      "cell_type": "markdown",
      "source": [
        "## CAU | TOXIC CHALLENGE\n",
        "| ATES | MEMBERS |\n",
        "| --- | --- |\n",
        "| 1. | Timur Urunbaev |\n",
        "| 2. | Asadbek Fazliddinov |\n",
        "| 3. | Gnome Gnomich|"
      ],
      "metadata": {
        "id": "yYi-67sHKMgT"
      }
    },
    {
      "cell_type": "code",
      "execution_count": null,
      "metadata": {
        "id": "YC-uwEVVKB8m"
      },
      "outputs": [],
      "source": [
        "import pandas as pd\n",
        "import numpy as np"
      ]
    },
    {
      "cell_type": "code",
      "source": [
        "df = pd.read_csv(\"\")"
      ],
      "metadata": {
        "id": "Qeb9VcQsKMBE"
      },
      "execution_count": null,
      "outputs": []
    }
  ]
}